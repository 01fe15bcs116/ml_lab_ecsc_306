{
 "cells": [
  {
   "cell_type": "code",
   "execution_count": 20,
   "metadata": {
    "scrolled": true
   },
   "outputs": [
    {
     "name": "stdout",
     "output_type": "stream",
     "text": [
      "1.25\n",
      "1.66667\n",
      "1.33333\n",
      "2.83333\n"
     ]
    }
   ],
   "source": [
    "import tensorflow as tf\n",
    "import matplotlib.pyplot as plt\n",
    "\n",
    "\n",
    "x=tf.constant([2,3,4,5],dtype = tf.float32)\n",
    "y=tf.constant([6,7,8,9],dtype = tf.float32)\n",
    "\n",
    "m1 = tf.reduce_mean(x)\n",
    "m2 = tf.reduce_mean(y)\n",
    "\n",
    "\n",
    "s1 = tf.subtract(x,m1)\n",
    "s2 = tf.square(s1)\n",
    "s5 = tf.reduce_sum(s2)\n",
    "s = tf.size(x)\n",
    "ssize=tf.cast(s, tf.float32)\n",
    "variance = tf.div(s5,ssize)\n",
    "\n",
    "\n",
    "s3=  tf.subtract(y,m2)\n",
    "s4 = tf.multiply(s1,s3)\n",
    "s6=tf.subtract(ssize,1)\n",
    "co =  tf.reduce_sum(s4)\n",
    "co_variance = tf.div(co,s6)\n",
    "\n",
    "m = tf.div(co_variance,variance)\n",
    "\n",
    "s5 = tf.multiply(m,m1)\n",
    "\n",
    "c = tf.subtract(m2,s5)\n",
    "\n",
    "\n",
    "\n",
    "\n",
    "\n",
    "with tf.Session() as sess:\n",
    "    #tf.InteractiveSession\n",
    "    print(sess.run(variance))\n",
    "    print(sess.run(co_variance))\n",
    "    print(sess.run(m))\n",
    "    print(sess.run(c))\n",
    "    writer = tf.summary.FileWriter(\"/home/b2/Desktop/output\",sess.graph)\n",
    "    writer.close()\n"
   ]
  },
  {
   "cell_type": "code",
   "execution_count": null,
   "metadata": {
    "collapsed": true
   },
   "outputs": [],
   "source": []
  }
 ],
 "metadata": {
  "kernelspec": {
   "display_name": "Python 3",
   "language": "python",
   "name": "python3"
  },
  "language_info": {
   "codemirror_mode": {
    "name": "ipython",
    "version": 3
   },
   "file_extension": ".py",
   "mimetype": "text/x-python",
   "name": "python",
   "nbconvert_exporter": "python",
   "pygments_lexer": "ipython3",
   "version": "3.6.1"
  }
 },
 "nbformat": 4,
 "nbformat_minor": 2
}
